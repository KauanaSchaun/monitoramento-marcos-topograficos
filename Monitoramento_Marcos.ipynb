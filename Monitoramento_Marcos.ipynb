{
 "cells": [
  {
   "cell_type": "code",
   "execution_count": null,
   "metadata": {},
   "outputs": [],
   "source": [
    "# 🔹 Upload dos arquivos necessários no Colab\n",
    "from google.colab import files\n",
    "\n",
    "print(\"👉 Escolha o arquivo dados.txt\")\n",
    "uploaded = files.upload()\n",
    "\n",
    "print(\"👉 Escolha o arquivo monitoramento.xlsx\")\n",
    "uploaded = files.upload()\n",
    "\n",
    "print(\"✅ Arquivos enviados com sucesso!\")"
   ]
  },
  {
   "cell_type": "code",
   "execution_count": null,
   "metadata": {},
   "outputs": [],
   "source": [
    "import pandas as pd\n",
    "import matplotlib.pyplot as plt\n",
    "from openpyxl import load_workbook\n",
    "\n",
    "# Exemplo de leitura do TXT\n",
    "with open(\"dados.txt\", \"r\", encoding=\"utf-8\") as f:\n",
    "    linhas = f.readlines()[1:]  # ignora cabeçalho BASE-SVN\n",
    "\n",
    "print(\"Linhas lidas do TXT:\", linhas[:5])"
   ]
  },
  {
   "cell_type": "code",
   "execution_count": null,
   "metadata": {},
   "outputs": [],
   "source": [
    "# Exemplo de abertura do Excel\n",
    "wb = load_workbook(\"monitoramento.xlsx\")\n",
    "print(\"Abas disponíveis:\", wb.sheetnames)"
   ]
  },
  {
   "cell_type": "code",
   "execution_count": null,
   "metadata": {},
   "outputs": [],
   "source": [
    "# Aqui você continua com o código do seu notebook original\n",
    "# (análises, gráficos, etc.)"
   ]
  }
 ],
 "metadata": {
  "kernelspec": {
   "display_name": "Python 3",
   "language": "python",
   "name": "python3"
  },
  "language_info": {
   "name": "python",
   "version": "3.12"
  }
 },
 "nbformat": 4,
 "nbformat_minor": 5
}
