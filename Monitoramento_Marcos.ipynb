{
 "cells": [
  {
   "cell_type": "markdown",
   "metadata": {},
   "source": [
    "# Monitoramento de Marcos Topográficos 🚀\n",
    "Este notebook lê dados de um arquivo `.txt`, organiza segundo ordem fixa de marcos, e atualiza uma planilha Excel preenchendo coordenadas iniciais em cada aba correspondente ao marco.\n",
    "\n",
    "### Como usar\n",
    "1. Faça upload do `dados.txt` e `monitoramento.xlsx`.\n",
    "2. Execute as células para processar os dados.\n",
    "3. Baixe o arquivo `monitoramento_atualizado.xlsx`.\n"
   ]
  },
  {
   "cell_type": "code",
   "metadata": {
    "id": "install-deps"
   },
   "source": [
    "# Instala bibliotecas necessárias\n",
    "!pip install openpyxl pandas --quiet"
   ],
   "execution_count": null,
   "outputs": []
  },
  {
   "cell_type": "code",
   "metadata": {
    "id": "upload-files"
   },
   "source": [
    "from google.colab import files\n",
    "print(\"📁 Faça upload dos arquivos:\")\n",
    "print(\"- dados.txt\")\n",
    "print(\"- monitoramento.xlsx\")\n",
    "uploaded = files.upload()"
   ],
   "execution_count": null,
   "outputs": []
  },
  {
   "cell_type": "code",
   "metadata": {
    "id": "process-input"
   },
   "source": [
    "import pandas as pd\n",
    "from openpyxl import load_workbook\n",
    "\n",
    "# Ordem fixa dos marcos\n",
    "ordem_marcos = [\n",
    "    \"SVN-CV-02\", \"SVN-CV-19\", \"SVN-CV-09\", \"SVN-CV-22\", \"SVN-CV-28\",\n",
    "    \"SVN-CV-29\", \"SVN-CV-31\", \"SVN-CV-35\", \"SVN-CV-37\", \"SVN-CV-38\",\n",
    "    \"SVN-CV-39\", \"SVN-CV-40\", \"SVN-CV-41\", \"SVN-CV-42\", \"SVN-CV-43\",\n",
    "    \"SVN-CV-45\", \"SVN-CV-46\", \"SVN-CV-47\", \"SVN-CV-48\", \"SVN-CV-49\",\n",
    "    \"SVN-CV-50\", \"SVN-CV-51\", \"SVN-CV-32\", \"SVN-CV-33\", \"SVN-CV-34\",\n",
    "    \"SVN-CV-27\", \"SVN-CV-52\", \"SVN-CV-53\"\n",
    "]\n",
    "\n",
    "# Leitura do TXT (pulando cabeçalho BASE‑SVN)\n",
    "with open(\"dados.txt\", \"r\", encoding=\"utf-8\") as f:\n",
    "    linhas = f.readlines()[1:]\n",
    "\n",
    "dados = []\n",
    "for linha in linhas:\n",
    "    partes = linha.strip().split(\",\")\n",
    "    if len(partes) == 5:\n",
    "        _, este, norte, cota, marco = partes\n",
    "        try:\n",
    "            este_f = float(este)\n",
    "            norte_f = float(norte)\n",
    "            cota_f = float(cota)\n",
    "        except:\n",
    "            # se algum valor não for float, ignora\n",
    "            continue\n",
    "        dados.append({\n",
    "            \"marco\": marco.strip(),\n",
    "            \"este\": este_f,\n",
    "            \"norte\": norte_f,\n",
    "            \"cota\": cota_f\n",
    "        })\n",
    "\n",
    "df = pd.DataFrame(dados)\n",
    "\n",
    "# Ordena pela ordem fixa\n",
    "df[\"ordem\"] = df[\"marco\"].apply(lambda x: ordem_marcos.index(x) if x in ordem_marcos else 999)\n",
    "df = df.sort_values(\"ordem\").reset_index(drop=True)\n",
    "\n",
    "# Exibe para visualização (opcional)\n",
    "df"
   ],
   "execution_count": null,
   "outputs": []
  },
  {
   "cell_type": "code",
   "metadata": {
    "id": "update-excel"
   },
   "source": [
    "# Atualiza Excel nas abas correspondentes\n",
    "wb = load_workbook(\"monitoramento.xlsx\")\n",
    "\n",
    "# Defina a linha onde vai inserir os dados iniciais (ex: 310)\n",
    "linha_para_preencher = 310\n",
    "\n",
    "for _, linha in df.iterrows():\n",
    "    nome_aba = linha[\"marco\"]\n",
   "    if nome_aba in wb.sheetnames:\n",
   "        ws = wb[nome_aba]\n",
   "        ws.cell(row=linha_para_preencher, column=3, value=linha[\"este\"])   # Coluna C\n",
   "        ws.cell(row=linha_para_preencher, column=5, value=linha[\"norte\"])  # Coluna E\n",
   "        ws.cell(row=linha_para_preencher, column=7, value=linha[\"cota\"])   # Coluna G\n",
   "    else:\n",
   "        print(f\"⚠️ Aba não encontrada: {nome_aba}\")\n",
   "\n",
   "# Salva o arquivo novo\n",
   "saida = \"monitoramento_atualizado.xlsx\"\n",
   "wb.save(saida)\n",
   "print(f\"✅ Planilha salva como '{saida}'\")"
   ],
   "execution_count": null,
   "outputs": []
  },
  {
   "cell_type": "code",
   "metadata": {
    "id": "download-output"
   },
   "source": [
    "from google.colab import files\n",
    "files.download(\"monitoramento_atualizado.xlsx\")"
   ],
   "execution_count": null,
   "outputs": []
  }
 ],
 "metadata": {
  "colab": {
   "name": "Monitoramento_Marcos.ipynb",
   "provenance": []
  },
  "kernelspec": {
   "display_name": "Python 3",
   "language": "python",
   "name": "python3"
  }
 },
 "nbformat": 4,
 "nbformat_minor": 5
}
